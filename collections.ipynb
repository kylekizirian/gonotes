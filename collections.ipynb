{
 "cells": [
  {
   "cell_type": "code",
   "execution_count": 1,
   "metadata": {},
   "outputs": [],
   "source": [
    "import (\n",
    "    \"fmt\"\n",
    "    \"strconv\"\n",
    "    \"strings\"\n",
    ")"
   ]
  },
  {
   "cell_type": "markdown",
   "metadata": {},
   "source": [
    "# Implement a set interface using a map"
   ]
  },
  {
   "cell_type": "code",
   "execution_count": 2,
   "metadata": {},
   "outputs": [],
   "source": [
    "type IntSet map[int]struct{}\n",
    "\n",
    "func NewIntSet() IntSet {\n",
    "    return make(IntSet)\n",
    "}\n",
    "\n",
    "func (s IntSet) Add(val int) {\n",
    "    s[val] = struct{}{}\n",
    "}\n",
    "\n",
    "func (s IntSet) Remove(val int) {\n",
    "    delete(s, val)\n",
    "}\n",
    "\n",
    "func (s IntSet) Has(val int) bool {\n",
    "    _, ok := s[val]\n",
    "    return ok\n",
    "}\n",
    "\n",
    "func (s IntSet) Members() []int {\n",
    "    mems := make([]int, len(s))\n",
    "    i := 0\n",
    "    for val := range s {\n",
    "        mems[i] = val\n",
    "        i++\n",
    "    }\n",
    "    return mems\n",
    "}\n",
    "\n",
    "func (s IntSet) Intersection(other IntSet) IntSet {\n",
    "    setIntersect := make(IntSet)\n",
    "    // iterate over the smaller of the two sets\n",
    "    var shorter, longer IntSet\n",
    "    if len(s) < len(other) {\n",
    "        shorter, longer = s, other\n",
    "    } else {\n",
    "        shorter, longer = other, s\n",
    "    }\n",
    "    \n",
    "    for _, val := range shorter.Members() {\n",
    "        if longer.Has(val) {\n",
    "            setIntersect.Add(val)\n",
    "        }\n",
    "    }\n",
    "\n",
    "    return setIntersect\n",
    "}\n",
    "\n",
    "func (s IntSet) String() string {\n",
    "    // convert all list of int to list of strings and join\n",
    "    vals := make([]string, len(s))\n",
    "    i := 0\n",
    "    for val := range s {\n",
    "        vals[i] = strconv.Itoa(val)\n",
    "        i++\n",
    "    }\n",
    "    return \"{\" + strings.Join(vals, \",\") + \"}\"\n",
    "}"
   ]
  },
  {
   "cell_type": "code",
   "execution_count": 3,
   "metadata": {},
   "outputs": [
    {
     "name": "stdout",
     "output_type": "stream",
     "text": [
      "s1  {2,3,0,1}\n",
      "s1  {2,3,4,5}\n",
      "s1.Intersection():  {2,3}\n"
     ]
    },
    {
     "data": {
      "text/plain": [
       "26 <nil>"
      ]
     },
     "execution_count": 3,
     "metadata": {},
     "output_type": "execute_result"
    }
   ],
   "source": [
    "s1, s2 := NewIntSet(), NewIntSet()\n",
    "for i := 0; i < 4; i++ {\n",
    "    s1.Add(i)\n",
    "}\n",
    "for i := 2; i < 6; i++ {\n",
    "    s2.Add(i)\n",
    "}\n",
    "\n",
    "fmt.Println(\"s1 \", s1.String())\n",
    "fmt.Println(\"s1 \", s2.String())\n",
    "fmt.Println(\"s1.Intersection(): \", s1.Intersection(s2).String())"
   ]
  }
 ],
 "metadata": {
  "kernelspec": {
   "display_name": "Go",
   "language": "go",
   "name": "gophernotes"
  },
  "language_info": {
   "codemirror_mode": "",
   "file_extension": ".go",
   "mimetype": "",
   "name": "go",
   "nbconvert_exporter": "",
   "pygments_lexer": "",
   "version": "go1.17.6"
  }
 },
 "nbformat": 4,
 "nbformat_minor": 4
}
