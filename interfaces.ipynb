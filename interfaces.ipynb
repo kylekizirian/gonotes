{
 "cells": [
  {
   "cell_type": "markdown",
   "metadata": {},
   "source": [
    "# Interfaces with a nil value are non-nil\n",
    "\n",
    "Thanks to a good explanation [here](https://trstringer.com/go-nil-interface-and-interface-with-nil-concrete-value/)"
   ]
  },
  {
   "cell_type": "code",
   "execution_count": 5,
   "metadata": {},
   "outputs": [
    {
     "name": "stdout",
     "output_type": "stream",
     "text": [
      "nilSlice == nil:  true\n",
      "ReturnNilSlice() == nil:  false\n"
     ]
    },
    {
     "data": {
      "text/plain": [
       "32 <nil>"
      ]
     },
     "execution_count": 5,
     "metadata": {},
     "output_type": "execute_result"
    }
   ],
   "source": [
    "import (\n",
    "    \"errors\"\n",
    "    \"fmt\"\n",
    ")\n",
    "\n",
    "type EmptyInterface interface{}\n",
    "\n",
    "func ReturnNilSlice() EmptyInterface {\n",
    "    var nilSlice []int\n",
    "    fmt.Println(\"nilSlice == nil: \", nilSlice == nil)\n",
    "\treturn nilSlice\n",
    "}\n",
    "\n",
    "fmt.Println(\"ReturnNilSlice() == nil: \", ReturnNilSlice() == nil)"
   ]
  }
 ],
 "metadata": {
  "kernelspec": {
   "display_name": "Go",
   "language": "go",
   "name": "gophernotes"
  },
  "language_info": {
   "codemirror_mode": "",
   "file_extension": ".go",
   "mimetype": "",
   "name": "go",
   "nbconvert_exporter": "",
   "pygments_lexer": "",
   "version": "go1.17.6"
  }
 },
 "nbformat": 4,
 "nbformat_minor": 4
}
