{
 "cells": [
  {
   "cell_type": "code",
   "execution_count": 1,
   "metadata": {},
   "outputs": [],
   "source": [
    "import (\n",
    "    \"fmt\"\n",
    "    \"sync/atomic\"\n",
    "    \"time\"\n",
    ")"
   ]
  },
  {
   "cell_type": "markdown",
   "metadata": {},
   "source": [
    "# Pattern for running a fixed # of goroutines\n",
    "\n",
    "Start a fixed number of goroutines, and pass each the channel\n",
    "to receive on. Have each goroutine range over the channel\n",
    "to receive items. Have the main thread block on a \"done\" signal.\n",
    "After the main thread receives the done signal, close the channel\n",
    "that the goroutines are listening on."
   ]
  },
  {
   "cell_type": "code",
   "execution_count": 2,
   "metadata": {},
   "outputs": [
    {
     "name": "stdout",
     "output_type": "stream",
     "text": [
      "running  1 threads at time:  Wed May 11 18:33:40 2022\n",
      "running  3 threads at time:  Wed May 11 18:33:40 2022\n",
      "running  4 threads at time:  Wed May 11 18:33:40 2022\n",
      "running  2 threads at time:  Wed May 11 18:33:40 2022\n",
      "running  4 threads at time:  Wed May 11 18:33:40 2022\n",
      "running  4 threads at time:  Wed May 11 18:33:40 2022\n",
      "running  4 threads at time:  Wed May 11 18:33:40 2022\n",
      "running  4 threads at time:  Wed May 11 18:33:40 2022\n",
      "running  4 threads at time:  Wed May 11 18:33:41 2022\n",
      "running  4 threads at time:  Wed May 11 18:33:41 2022\n",
      "running  4 threads at time:  Wed May 11 18:33:41 2022\n",
      "running  4 threads at time:  Wed May 11 18:33:41 2022\n",
      "running  4 threads at time:  Wed May 11 18:33:41 2022\n",
      "running  4 threads at time:  Wed May 11 18:33:41 2022\n",
      "running  4 threads at time:  Wed May 11 18:33:41 2022\n",
      "running  4 threads at time:  Wed May 11 18:33:41 2022\n",
      "running  4 threads at time:  Wed May 11 18:33:42 2022\n",
      "running  4 threads at time:  Wed May 11 18:33:42 2022\n",
      "running  4 threads at time:  Wed May 11 18:33:42 2022\n",
      "running  4 threads at time:  Wed May 11 18:33:42 2022\n"
     ]
    }
   ],
   "source": [
    "MaxConcurrent := 4\n",
    "var NumRunning int32\n",
    "\n",
    "func handle(recv <-chan int) {\n",
    "    for i := range recv {\n",
    "        fmt.Println(\"running \", atomic.AddInt32(&NumRunning, 1), \"threads at time: \", time.Now().Format(time.ANSIC))\n",
    "        time.Sleep(500 * time.Millisecond)\n",
    "        atomic.AddInt32(&NumRunning, -1)\n",
    "    }\n",
    "}\n",
    "\n",
    "func Serve(recv <-chan int, quit <-chan bool) {\n",
    "    for i := 0; i < MaxConcurrent; i++ {\n",
    "        go handle(recv)\n",
    "    }\n",
    "    <-quit\n",
    "}\n",
    "\n",
    "ch := make(chan int, 100)\n",
    "done := make(chan bool)\n",
    "\n",
    "go Serve(ch, done)\n",
    "\n",
    "for i := 0; i < 20; i++ {\n",
    "    ch <- i\n",
    "}\n",
    "close(ch)\n",
    "time.Sleep(5 * time.Second)\n",
    "\n",
    "done <- true"
   ]
  }
 ],
 "metadata": {
  "kernelspec": {
   "display_name": "Go",
   "language": "go",
   "name": "gophernotes"
  },
  "language_info": {
   "codemirror_mode": "",
   "file_extension": ".go",
   "mimetype": "",
   "name": "go",
   "nbconvert_exporter": "",
   "pygments_lexer": "",
   "version": "go1.17.6"
  }
 },
 "nbformat": 4,
 "nbformat_minor": 4
}
