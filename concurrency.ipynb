{
 "cells": [
  {
   "cell_type": "code",
   "execution_count": 1,
   "metadata": {},
   "outputs": [],
   "source": [
    "import (\n",
    "    \"fmt\"\n",
    "    \"sync\"\n",
    "    \"sync/atomic\"\n",
    "    \"time\"\n",
    ")"
   ]
  },
  {
   "cell_type": "markdown",
   "metadata": {},
   "source": [
    "# Pattern for running a fixed # of goroutines\n",
    "\n",
    "Start a fixed number of goroutines, and pass each the channel\n",
    "to receive on. Have each goroutine range over the channel\n",
    "to receive items. Have the main thread block on a \"done\" signal.\n",
    "After the main thread receives the done signal, close the channel\n",
    "that the goroutines are listening on."
   ]
  },
  {
   "cell_type": "code",
   "execution_count": 2,
   "metadata": {},
   "outputs": [
    {
     "name": "stdout",
     "output_type": "stream",
     "text": [
      "running  1 threads at time:  Wed May 11 19:23:55 2022\n",
      "running  4 threads at time:  Wed May 11 19:23:55 2022\n",
      "running  2 threads at time:  Wed May 11 19:23:55 2022\n",
      "running  3 threads at time:  Wed May 11 19:23:55 2022\n",
      "running  4 threads at time:  Wed May 11 19:23:56 2022\n",
      "running  4 threads at time:  Wed May 11 19:23:56 2022\n",
      "running  4 threads at time:  Wed May 11 19:23:56 2022\n",
      "running  4 threads at time:  Wed May 11 19:23:56 2022\n",
      "running  4 threads at time:  Wed May 11 19:23:56 2022\n",
      "running  4 threads at time:  Wed May 11 19:23:56 2022\n",
      "running  4 threads at time:  Wed May 11 19:23:56 2022\n",
      "running  4 threads at time:  Wed May 11 19:23:56 2022\n",
      "running  4 threads at time:  Wed May 11 19:23:57 2022\n",
      "running  4 threads at time:  Wed May 11 19:23:57 2022\n",
      "running  4 threads at time:  Wed May 11 19:23:57 2022\n",
      "running  4 threads at time:  Wed May 11 19:23:57 2022\n",
      "running  3 threads at time:  Wed May 11 19:23:57 2022\n",
      "running  4 threads at time:  Wed May 11 19:23:57 2022\n",
      "running  3 threads at time:  Wed May 11 19:23:57 2022\n",
      "running  4 threads at time:  Wed May 11 19:23:57 2022\n"
     ]
    }
   ],
   "source": [
    "MaxConcurrent := 4\n",
    "var NumRunning int32\n",
    "\n",
    "func handle(recv <-chan int) {\n",
    "    for i := range recv {\n",
    "        fmt.Println(\"running \", atomic.AddInt32(&NumRunning, 1), \"threads at time: \", time.Now().Format(time.ANSIC))\n",
    "        time.Sleep(500 * time.Millisecond)\n",
    "        atomic.AddInt32(&NumRunning, -1)\n",
    "    }\n",
    "}\n",
    "\n",
    "func Serve(recv <-chan int, quit <-chan bool) {\n",
    "    for i := 0; i < MaxConcurrent; i++ {\n",
    "        go handle(recv)\n",
    "    }\n",
    "    <-quit\n",
    "}\n",
    "\n",
    "ch := make(chan int, 100)\n",
    "done := make(chan bool)\n",
    "\n",
    "go Serve(ch, done)\n",
    "\n",
    "for i := 0; i < 20; i++ {\n",
    "    ch <- i\n",
    "}\n",
    "close(ch)\n",
    "time.Sleep(5 * time.Second)\n",
    "\n",
    "done <- true"
   ]
  },
  {
   "cell_type": "markdown",
   "metadata": {},
   "source": [
    "# sync.Cond\n",
    "\n",
    "`sync.Cond` is useful for broadcasting to multiple goroutines"
   ]
  },
  {
   "cell_type": "code",
   "execution_count": 3,
   "metadata": {},
   "outputs": [
    {
     "name": "stdout",
     "output_type": "stream",
     "text": [
      "goroutine:  3  has counter:  0  at:  19:24:00\n",
      "goroutine:  0  has counter:  0  at:  19:24:00\n",
      "goroutine:  1  has counter:  0  at:  19:24:00\n",
      "goroutine:  2  has counter:  0  at:  19:24:00\n",
      "goroutine:  2  has counter:  1  at:  19:24:01\n",
      "goroutine:  0  has counter:  1  at:  19:24:01\n",
      "goroutine:  3  has counter:  1  at:  19:24:01\n",
      "goroutine:  1  has counter:  1  at:  19:24:01\n",
      "goroutine:  1  has counter:  2  at:  19:24:02\n",
      "goroutine:  0  has counter:  2  at:  19:24:02\n",
      "goroutine:  2  has counter:  2  at:  19:24:02\n",
      "goroutine:  3  has counter:  2  at:  19:24:02\n",
      "goroutine:  3  has counter:  3  at:  19:24:03\n",
      "goroutine:  1  has counter:  3  at:  19:24:03\n",
      "goroutine:  0  has counter:  3  at:  19:24:03\n",
      "goroutine:  2  has counter:  3  at:  19:24:03\n",
      "goroutine:  1  has counter:  4  at:  19:24:04\n",
      "goroutine:  2  has counter:  4  at:  19:24:04\n",
      "goroutine:  0  has counter:  4  at:  19:24:04\n",
      "goroutine:  3  has counter:  4  at:  19:24:04\n",
      "goroutine:  3  unblocked at:  19:24:05\n",
      "goroutine:  2  unblocked at:  19:24:05\n",
      "goroutine:  0  unblocked at:  19:24:05\n",
      "goroutine:  1  unblocked at:  19:24:05\n"
     ]
    }
   ],
   "source": [
    "var wg sync.WaitGroup\n",
    "c := sync.NewCond(&sync.Mutex{})\n",
    "\n",
    "ctr := 0\n",
    "\n",
    "fmtNow := func() string {\n",
    "    return time.Now().Format(\"15:04:05\")\n",
    "}\n",
    "\n",
    "for i := 0; i < 4; i++ {\n",
    "    wg.Add(1)\n",
    "    go func(id int, c *sync.Cond) {\n",
    "        defer wg.Done()\n",
    "        c.L.Lock()\n",
    "        for ctr < 5 {\n",
    "            fmt.Println(\"goroutine: \", id, \" has counter: \", ctr, \" at: \", fmtNow())\n",
    "            c.Wait()\n",
    "        }\n",
    "        c.L.Unlock()\n",
    "        fmt.Println(\"goroutine: \", id, \" unblocked at: \", fmtNow())\n",
    "    }(i, c)\n",
    "}\n",
    "\n",
    "for ctr < 5 {\n",
    "    time.Sleep(1 * time.Second)\n",
    "    c.L.Lock()\n",
    "    ctr += 1\n",
    "    c.Broadcast()\n",
    "    c.L.Unlock()\n",
    "}\n",
    "\n",
    "wg.Wait()"
   ]
  }
 ],
 "metadata": {
  "kernelspec": {
   "display_name": "Go",
   "language": "go",
   "name": "gophernotes"
  },
  "language_info": {
   "codemirror_mode": "",
   "file_extension": ".go",
   "mimetype": "",
   "name": "go",
   "nbconvert_exporter": "",
   "pygments_lexer": "",
   "version": "go1.17.6"
  }
 },
 "nbformat": 4,
 "nbformat_minor": 4
}
