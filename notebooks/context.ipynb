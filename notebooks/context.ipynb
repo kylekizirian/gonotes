{
 "cells": [
  {
   "cell_type": "markdown",
   "metadata": {},
   "source": [
    "# Context\n",
    "\n",
    "context uses a `Done` channel that's closed when the context is canceled or times out."
   ]
  },
  {
   "cell_type": "code",
   "execution_count": 1,
   "metadata": {},
   "outputs": [],
   "source": [
    "import (\n",
    "    \"context\"\n",
    "    \"fmt\"\n",
    "    \"time\"\n",
    ")"
   ]
  },
  {
   "cell_type": "code",
   "execution_count": 2,
   "metadata": {},
   "outputs": [],
   "source": [
    "func printTime(ctx context.Context) {\n",
    "    ticker := time.NewTicker(time.Second)\n",
    "    for {\n",
    "        select {\n",
    "        case <- ctx.Done():\n",
    "            fmt.Println(\"context done\")\n",
    "            return\n",
    "        case <- ticker.C:\n",
    "            fmt.Println(time.Now().Format(\"15:04:05.0\"))\n",
    "        }\n",
    "    }\n",
    "}"
   ]
  },
  {
   "cell_type": "code",
   "execution_count": 3,
   "metadata": {},
   "outputs": [
    {
     "name": "stdout",
     "output_type": "stream",
     "text": [
      "10:58:11.2\n",
      "10:58:12.2\n",
      "10:58:13.2\n",
      "context done\n"
     ]
    }
   ],
   "source": [
    "// example with timeout\n",
    "ctx, _ := context.WithTimeout(context.Background(), 3 * time.Second)\n",
    "printTime(ctx)"
   ]
  },
  {
   "cell_type": "code",
   "execution_count": 4,
   "metadata": {},
   "outputs": [
    {
     "name": "stdout",
     "output_type": "stream",
     "text": [
      "10:58:14.2\n",
      "10:58:15.2\n",
      "10:58:16.2\n",
      "context done\n"
     ]
    }
   ],
   "source": [
    "// example with cancel\n",
    "ctx, cancel := context.WithCancel(context.Background())\n",
    "aft := time.After(3 * time.Second)\n",
    "go func() {\n",
    "    for {\n",
    "        select {\n",
    "        case <- aft:\n",
    "            cancel()\n",
    "            return\n",
    "        }\n",
    "    }\n",
    "}()\n",
    "printTime(ctx)"
   ]
  }
 ],
 "metadata": {
  "kernelspec": {
   "display_name": "Go",
   "language": "go",
   "name": "gophernotes"
  },
  "language_info": {
   "codemirror_mode": "",
   "file_extension": ".go",
   "mimetype": "",
   "name": "go",
   "nbconvert_exporter": "",
   "pygments_lexer": "",
   "version": "go1.17.6"
  }
 },
 "nbformat": 4,
 "nbformat_minor": 4
}
