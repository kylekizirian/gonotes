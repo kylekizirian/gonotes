{
 "cells": [
  {
   "cell_type": "code",
   "execution_count": 1,
   "metadata": {},
   "outputs": [],
   "source": [
    "import \"fmt\""
   ]
  },
  {
   "cell_type": "markdown",
   "metadata": {},
   "source": [
    "# Range loops until the channel is closed"
   ]
  },
  {
   "cell_type": "code",
   "execution_count": 2,
   "metadata": {},
   "outputs": [
    {
     "name": "stdout",
     "output_type": "stream",
     "text": [
      "<-intStream:  0\n",
      "<-intStream:  1\n",
      "<-intStream:  2\n",
      "<-intStream:  3\n",
      "<-intStream:  4\n"
     ]
    },
    {
     "data": {
      "text/plain": [
       "end range loop"
      ]
     },
     "execution_count": 2,
     "metadata": {},
     "output_type": "execute_result"
    }
   ],
   "source": [
    "intStream := make(chan int)\n",
    "\n",
    "go func() {\n",
    "    for i := 0; i < 5; i++ {\n",
    "        intStream <- i\n",
    "    }\n",
    "    close(intStream)\n",
    "}()\n",
    "\n",
    "for i := range intStream {\n",
    "    fmt.Println(\"<-intStream: \", i)\n",
    "}\n",
    "\"end range loop\""
   ]
  },
  {
   "cell_type": "markdown",
   "metadata": {},
   "source": [
    "# Closed channels\n",
    "\n",
    "Receiving on a closed channel immediately returns the 0 value"
   ]
  },
  {
   "cell_type": "code",
   "execution_count": 3,
   "metadata": {},
   "outputs": [
    {
     "data": {
      "text/plain": [
       "0 false"
      ]
     },
     "execution_count": 3,
     "metadata": {},
     "output_type": "execute_result"
    }
   ],
   "source": [
    "closedChan := make(chan int)\n",
    "close(closedChan)\n",
    "<- closedChan"
   ]
  },
  {
   "cell_type": "markdown",
   "metadata": {},
   "source": [
    "Sending on a closed channel panics"
   ]
  },
  {
   "cell_type": "code",
   "execution_count": 4,
   "metadata": {},
   "outputs": [
    {
     "ename": "ERROR",
     "evalue": "send on closed channel",
     "output_type": "error",
     "traceback": [
      "send on closed channel"
     ]
    }
   ],
   "source": [
    "closedChan <- 1"
   ]
  }
 ],
 "metadata": {
  "kernelspec": {
   "display_name": "Go",
   "language": "go",
   "name": "gophernotes"
  },
  "language_info": {
   "codemirror_mode": "",
   "file_extension": ".go",
   "mimetype": "",
   "name": "go",
   "nbconvert_exporter": "",
   "pygments_lexer": "",
   "version": "go1.17.6"
  }
 },
 "nbformat": 4,
 "nbformat_minor": 4
}
